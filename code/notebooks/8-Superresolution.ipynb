{
 "cells": [
  {
   "cell_type": "markdown",
   "metadata": {},
   "source": [
    "# Superresolution"
   ]
  },
  {
   "cell_type": "markdown",
   "metadata": {},
   "source": [
    "### This notebook introduces superresolution on the input images. The implementation applies diffusion by using Latent Diffusion model with a x4 upscaling factor. In this notebook, we will provide a step-by-step guide to apply superresolution to an image."
   ]
  },
  {
   "cell_type": "markdown",
   "metadata": {},
   "source": [
    "Select an input image"
   ]
  },
  {
   "cell_type": "code",
   "execution_count": null,
   "metadata": {},
   "outputs": [],
   "source": [
    "from PIL import Image\n",
    "import os, sys\n",
    "\n",
    "input_path = '../inputs/superresolution/lenna.png'\n",
    "input_image = Image.open(input_path)\n",
    "\n",
    "current_dir = os.getcwd()\n",
    "parent_dir = os.path.abspath(os.path.join(os.path.dirname(current_dir), '..'))\n",
    "sys.path.append(os.path.join(parent_dir, 'code'))"
   ]
  },
  {
   "cell_type": "code",
   "execution_count": null,
   "metadata": {},
   "outputs": [],
   "source": [
    "from matplotlib import pyplot as plt\n",
    "\n",
    "plt.imshow(input_image)\n",
    "plt.axis('off')\n",
    "plt.show()"
   ]
  },
  {
   "cell_type": "markdown",
   "metadata": {},
   "source": [
    "Define the number of inference steps"
   ]
  },
  {
   "cell_type": "code",
   "execution_count": null,
   "metadata": {},
   "outputs": [],
   "source": [
    "steps = 50"
   ]
  },
  {
   "cell_type": "markdown",
   "metadata": {},
   "source": [
    "Load and preapre the Latent Diffusion model"
   ]
  },
  {
   "cell_type": "code",
   "execution_count": null,
   "metadata": {},
   "outputs": [],
   "source": [
    "from diffusers import LDMSuperResolutionPipeline\n",
    "import torch\n",
    "\n",
    "device = \"cuda\" if torch.cuda.is_available() else \"cpu\"\n",
    "pipeline = LDMSuperResolutionPipeline.from_pretrained(\"CompVis/ldm-super-resolution-4x-openimages\")\n",
    "pipeline = pipeline.to(device)"
   ]
  },
  {
   "cell_type": "markdown",
   "metadata": {},
   "source": [
    "Since the model works only for the input shape of $128$ x $128$, we reisize the image to a width and length being a multiple of $128$"
   ]
  },
  {
   "cell_type": "code",
   "execution_count": null,
   "metadata": {},
   "outputs": [],
   "source": [
    "low_res_img = input_image.convert(\"RGB\")\n",
    "original_width, original_height = low_res_img.size\n",
    "\n",
    "if original_width > original_height:\n",
    "    low_res_img = low_res_img.resize((768, 512))\n",
    "    new_size = (768, 512)\n",
    "elif original_width < original_height:\n",
    "    low_res_img = low_res_img.resize((512, 768))\n",
    "    new_size = (512, 768)\n",
    "else:\n",
    "    low_res_img = low_res_img.resize((512, 512))\n",
    "    new_size = (512, 512)"
   ]
  },
  {
   "cell_type": "markdown",
   "metadata": {},
   "source": [
    "As a next step the resized images is split into patches of shape $128$ x $128$"
   ]
  },
  {
   "cell_type": "code",
   "execution_count": null,
   "metadata": {},
   "outputs": [],
   "source": [
    "patch_size = 128    \n",
    "\n",
    "patches = []\n",
    "img_width, img_height = low_res_img.size\n",
    "for i in range(0, img_height, patch_size):\n",
    "    for j in range(0, img_width, patch_size):\n",
    "        box = (j, i, j + patch_size, i + patch_size)\n",
    "        patch = low_res_img.crop(box)\n",
    "        patches.append(patch)\n"
   ]
  },
  {
   "cell_type": "markdown",
   "metadata": {},
   "source": [
    "Apply each of the patches to the model, and merge them back to obtain the full image"
   ]
  },
  {
   "cell_type": "code",
   "execution_count": null,
   "metadata": {},
   "outputs": [],
   "source": [
    "from superres_ldm import reassemble_image\n",
    "\n",
    "upscaled_patches = []\n",
    "for patch in patches:\n",
    "    upscaled_patch = pipeline(image=patch, num_inference_steps=steps, eta=1).images[0]\n",
    "    upscaled_patches.append(upscaled_patch)\n",
    "\n",
    "upscaled_image = reassemble_image(upscaled_patches, new_size[0], new_size[1], patch_size)\n",
    "upscaled_image = upscaled_image.resize((original_width * 4, original_height * 4))"
   ]
  },
  {
   "cell_type": "code",
   "execution_count": null,
   "metadata": {},
   "outputs": [],
   "source": [
    "plt.imshow(upscaled_image)\n",
    "plt.axis('off')\n",
    "plt.show()"
   ]
  },
  {
   "cell_type": "markdown",
   "metadata": {},
   "source": [
    "Visalise the result"
   ]
  },
  {
   "cell_type": "code",
   "execution_count": null,
   "metadata": {},
   "outputs": [],
   "source": [
    "fig, axs = plt.subplots(1, 2, figsize=(10, 5))\n",
    "\n",
    "axs[0].imshow(input_image)\n",
    "axs[0].axis('off')\n",
    "axs[0].set_title('Original image')\n",
    "\n",
    "# Display the second image in the right subplot\n",
    "axs[1].imshow(upscaled_image)\n",
    "axs[1].axis('off')\n",
    "axs[1].set_title('Final image')\n",
    "\n",
    "# Adjust layout to avoid overlap\n",
    "plt.tight_layout()\n",
    "plt.show()"
   ]
  }
 ],
 "metadata": {
  "kernelspec": {
   "display_name": "image-editing-env",
   "language": "python",
   "name": "python3"
  },
  "language_info": {
   "codemirror_mode": {
    "name": "ipython",
    "version": 3
   },
   "file_extension": ".py",
   "mimetype": "text/x-python",
   "name": "python",
   "nbconvert_exporter": "python",
   "pygments_lexer": "ipython3",
   "version": "3.8.10"
  }
 },
 "nbformat": 4,
 "nbformat_minor": 2
}
